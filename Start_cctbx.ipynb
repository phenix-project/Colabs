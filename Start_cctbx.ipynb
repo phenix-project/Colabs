{
  "nbformat": 4,
  "nbformat_minor": 0,
  "metadata": {
    "colab": {
      "name": "Start_cctbx.ipynb",
      "provenance": [],
      "authorship_tag": "ABX9TyNKgHQlqztlZNewneZacbNa",
      "include_colab_link": true
    },
    "kernelspec": {
      "name": "python3",
      "display_name": "Python 3"
    },
    "language_info": {
      "name": "python"
    }
  },
  "cells": [
    {
      "cell_type": "markdown",
      "metadata": {
        "id": "view-in-github",
        "colab_type": "text"
      },
      "source": [
        "<a href=\"https://colab.research.google.com/github/phenix-project/Colabs/blob/main/Start_cctbx.ipynb\" target=\"_parent\"><img src=\"https://colab.research.google.com/assets/colab-badge.svg\" alt=\"Open In Colab\"/></a>"
      ]
    },
    {
      "cell_type": "code",
      "execution_count": 1,
      "metadata": {
        "id": "ft3z-TiIKKmM",
        "outputId": "fb1fd7f1-9654-42b1-8862-3fb0f2c37e58",
        "colab": {
          "base_uri": "https://localhost:8080/"
        }
      },
      "outputs": [
        {
          "output_type": "stream",
          "name": "stdout",
          "text": [
            "⏬ Downloading https://github.com/jaimergp/miniforge/releases/latest/download/Mambaforge-colab-Linux-x86_64.sh...\n",
            "📦 Installing...\n",
            "📌 Adjusting configuration...\n",
            "🩹 Patching environment...\n",
            "⏲ Done in 0:00:27\n",
            "🔁 Restarting kernel...\n"
          ]
        }
      ],
      "source": [
        "# Install condacolab so that conda packages can be used\n",
        "# https://github.com/conda-incubator/condacolab\n",
        "#\n",
        "# Important notes\n",
        "# https://github.com/conda-incubator/condacolab#shortcomings\n",
        "# 1) The kernel will automatically be restarted and show an error message about\n",
        "#    a crash (\"Your session crashed for an unknown reason\").\n",
        "#    The error can be ignored.\n",
        "# 2) Only the \"base\" environment is available, so do not create a separate \n",
        "#    environment for pacakges.\n",
        "!pip install -q condacolab\n",
        "import condacolab\n",
        "condacolab.install()"
      ]
    },
    {
      "cell_type": "code",
      "source": [
        "# Install cctbx-base\n",
        "# Wait until the error message appears near the bottom of the notebook before\n",
        "# proceeding.\n",
        "\n",
        "# By default, condacolab installs both conda and mamba. Generally, mamba will\n",
        "# be faster when resolving dependencies.\n",
        "!mamba install -q cctbx-base\n",
        "\n",
        "# conda installs ${CONDA_PREFIX}/share/cctbx into /usr/local instead of /usr\n",
        "# Make a copy to avoid errors\n",
        "!cp -af /usr/local/share/cctbx /usr/share/\n",
        "\n",
        "# sys.path does not have some directories with libraries, so add them here\n",
        "import sys\n",
        "py_ver = f'{sys.version_info.major}.{sys.version_info.minor}'\n",
        "for d in [f'/usr/local/lib/python{py_ver}/lib-dynload', '/usr/local/lib']:\n",
        "  if d not in sys.path:\n",
        "    sys.path.insert(0, d)\n",
        "\n",
        "# final check\n",
        "import os\n",
        "if os.path.isdir('/usr/local/share/cctbx') \\\n",
        "  and f'/usr/local/lib/python{py_ver}/lib-dynload' in sys.path \\\n",
        "  and '/usr/local/lib' in sys.path:\n",
        "  print('Finished installing cctbx-base')\n",
        "else:\n",
        "  raise RuntimeError('There was an error fixing up the installation of cctbx-base')\n"
      ],
      "metadata": {
        "id": "TFtfP--2Kdnn",
        "outputId": "5d8e2b46-6cfb-4580-b18b-b7cd9efccbbb",
        "colab": {
          "base_uri": "https://localhost:8080/"
        }
      },
      "execution_count": 1,
      "outputs": [
        {
          "output_type": "stream",
          "name": "stdout",
          "text": [
            "\n",
            "                  __    __    __    __\n",
            "                 /  \\  /  \\  /  \\  /  \\\n",
            "                /    \\/    \\/    \\/    \\\n",
            "███████████████/  /██/  /██/  /██/  /████████████████████████\n",
            "              /  / \\   / \\   / \\   / \\  \\____\n",
            "             /  /   \\_/   \\_/   \\_/   \\    o \\__,\n",
            "            / _/                       \\_____/  `\n",
            "            |/\n",
            "        ███╗   ███╗ █████╗ ███╗   ███╗██████╗  █████╗\n",
            "        ████╗ ████║██╔══██╗████╗ ████║██╔══██╗██╔══██╗\n",
            "        ██╔████╔██║███████║██╔████╔██║██████╔╝███████║\n",
            "        ██║╚██╔╝██║██╔══██║██║╚██╔╝██║██╔══██╗██╔══██║\n",
            "        ██║ ╚═╝ ██║██║  ██║██║ ╚═╝ ██║██████╔╝██║  ██║\n",
            "        ╚═╝     ╚═╝╚═╝  ╚═╝╚═╝     ╚═╝╚═════╝ ╚═╝  ╚═╝\n",
            "\n",
            "        mamba (1.0.0) supported by @QuantStack\n",
            "\n",
            "        GitHub:  https://github.com/mamba-org/mamba\n",
            "        Twitter: https://twitter.com/QuantStack\n",
            "\n",
            "█████████████████████████████████████████████████████████████\n",
            "\n",
            "  Package              Version  Build                Channel                   Size\n",
            "─────────────────────────────────────────────────────────────────────────────────────\n",
            "  Install:\n",
            "─────────────────────────────────────────────────────────────────────────────────────\n",
            "\n",
            "\u001b[32m  + appdirs        \u001b[00m      1.4.4  pyh9f0ad1d_0         conda-forge/noarch        13kB\n",
            "\u001b[32m  + biopython      \u001b[00m       1.80  py38h0a891b7_0       conda-forge/linux-64       2MB\n",
            "\u001b[32m  + boost          \u001b[00m     1.78.0  py38h4e30db6_4       conda-forge/linux-64     378kB\n",
            "\u001b[32m  + boost-cpp      \u001b[00m     1.78.0  h75c5d50_1           conda-forge/linux-64      18MB\n",
            "\u001b[32m  + brotli         \u001b[00m      1.0.9  h166bdaf_8           conda-forge/linux-64      19kB\n",
            "\u001b[32m  + brotli-bin     \u001b[00m      1.0.9  h166bdaf_8           conda-forge/linux-64      20kB\n",
            "\u001b[32m  + cctbx-base     \u001b[00m    2022.12  py38h6480b52_0       conda-forge/linux-64      61MB\n",
            "\u001b[32m  + contourpy      \u001b[00m      1.0.7  py38hfbd4bf9_0       conda-forge/linux-64     214kB\n",
            "\u001b[32m  + cycler         \u001b[00m     0.11.0  pyhd8ed1ab_0         conda-forge/noarch        10kB\n",
            "\u001b[32m  + fonttools      \u001b[00m     4.38.0  py38h0a891b7_1       conda-forge/linux-64       2MB\n",
            "\u001b[32m  + freetype       \u001b[00m     2.12.1  hca18f0e_1           conda-forge/linux-64     626kB\n",
            "\u001b[32m  + future         \u001b[00m     0.18.3  pyhd8ed1ab_0         conda-forge/noarch       366kB\n",
            "\u001b[32m  + jpeg           \u001b[00m         9e  h166bdaf_2           conda-forge/linux-64     275kB\n",
            "\u001b[32m  + kiwisolver     \u001b[00m      1.4.4  py38h43d8883_1       conda-forge/linux-64      77kB\n",
            "\u001b[32m  + lcms2          \u001b[00m       2.14  hfd0df8a_1           conda-forge/linux-64     241kB\n",
            "\u001b[32m  + lerc           \u001b[00m      4.0.0  h27087fc_0           conda-forge/linux-64     282kB\n",
            "\u001b[32m  + libblas        \u001b[00m      3.9.0  16_linux64_openblas  conda-forge/linux-64      13kB\n",
            "\u001b[32m  + libbrotlicommon\u001b[00m      1.0.9  h166bdaf_8           conda-forge/linux-64      67kB\n",
            "\u001b[32m  + libbrotlidec   \u001b[00m      1.0.9  h166bdaf_8           conda-forge/linux-64      34kB\n",
            "\u001b[32m  + libbrotlienc   \u001b[00m      1.0.9  h166bdaf_8           conda-forge/linux-64     295kB\n",
            "\u001b[32m  + libcblas       \u001b[00m      3.9.0  16_linux64_openblas  conda-forge/linux-64      13kB\n",
            "\u001b[32m  + libdeflate     \u001b[00m       1.17  h0b41bf4_0           conda-forge/linux-64      65kB\n",
            "\u001b[32m  + libgfortran-ng \u001b[00m     12.2.0  h69a702a_19          conda-forge/linux-64      23kB\n",
            "\u001b[32m  + libgfortran5   \u001b[00m     12.2.0  h337968e_19          conda-forge/linux-64       2MB\n",
            "\u001b[32m  + libglu         \u001b[00m      9.0.0  he1b5a44_1001        conda-forge/linux-64     423kB\n",
            "\u001b[32m  + libjpeg-turbo  \u001b[00m      2.1.4  h166bdaf_0           conda-forge/linux-64       1MB\n",
            "\u001b[32m  + liblapack      \u001b[00m      3.9.0  16_linux64_openblas  conda-forge/linux-64      13kB\n",
            "\u001b[32m  + libopenblas    \u001b[00m     0.3.21  pthreads_h78a6416_3  conda-forge/linux-64      11MB\n",
            "\u001b[32m  + libpng         \u001b[00m     1.6.39  h753d276_0           conda-forge/linux-64     283kB\n",
            "\u001b[32m  + libsvm         \u001b[00m        330  hcb278e6_0           conda-forge/linux-64      69kB\n",
            "\u001b[32m  + libtiff        \u001b[00m      4.5.0  h6adf6a1_2           conda-forge/linux-64     407kB\n",
            "\u001b[32m  + libwebp-base   \u001b[00m      1.2.4  h166bdaf_0           conda-forge/linux-64     413kB\n",
            "\u001b[32m  + libxcb         \u001b[00m       1.13  h7f98852_1004        conda-forge/linux-64     400kB\n",
            "\u001b[32m  + matplotlib-base\u001b[00m      3.6.3  py38hd6c3c57_0       conda-forge/linux-64       7MB\n",
            "\u001b[32m  + mrcfile        \u001b[00m      1.4.3  pyhd8ed1ab_0         conda-forge/noarch        35kB\n",
            "\u001b[32m  + munkres        \u001b[00m      1.1.4  pyh9f0ad1d_0         conda-forge/noarch        12kB\n",
            "\u001b[32m  + numpy          \u001b[00m     1.24.1  py38hab0fcb9_0       conda-forge/linux-64       7MB\n",
            "\u001b[32m  + openjpeg       \u001b[00m      2.5.0  hfec8fc6_2           conda-forge/linux-64     352kB\n",
            "\u001b[32m  + packaging      \u001b[00m       23.0  pyhd8ed1ab_0         conda-forge/noarch        41kB\n",
            "\u001b[32m  + pillow         \u001b[00m      9.4.0  py38hb32c036_0       conda-forge/linux-64      46MB\n",
            "\u001b[32m  + pooch          \u001b[00m      1.6.0  pyhd8ed1ab_0         conda-forge/noarch        45kB\n",
            "\u001b[32m  + psutil         \u001b[00m      5.9.4  py38h0a891b7_0       conda-forge/linux-64     357kB\n",
            "\u001b[32m  + pthread-stubs  \u001b[00m        0.4  h36c2ea0_1001        conda-forge/linux-64       6kB\n",
            "\u001b[32m  + pyparsing      \u001b[00m      3.0.9  pyhd8ed1ab_0         conda-forge/noarch        81kB\n",
            "\u001b[32m  + python-dateutil\u001b[00m      2.8.2  pyhd8ed1ab_0         conda-forge/noarch       246kB\n",
            "\u001b[32m  + reportlab      \u001b[00m     3.6.12  py38h8786f81_2       conda-forge/linux-64       2MB\n",
            "\u001b[32m  + scipy          \u001b[00m     1.10.0  py38h10c12cc_0       conda-forge/linux-64      25MB\n",
            "\u001b[32m  + six            \u001b[00m     1.16.0  pyh6c4a22f_0         conda-forge/noarch        14kB\n",
            "\u001b[32m  + unicodedata2   \u001b[00m     15.0.0  py38h0a891b7_0       conda-forge/linux-64     509kB\n",
            "\u001b[32m  + xorg-libxau    \u001b[00m      1.0.9  h7f98852_0           conda-forge/linux-64      13kB\n",
            "\u001b[32m  + xorg-libxdmcp  \u001b[00m      1.1.3  h7f98852_0           conda-forge/linux-64      19kB\n",
            "\n",
            "  Upgrade:\n",
            "─────────────────────────────────────────────────────────────────────────────────────\n",
            "\n",
            "\u001b[31m  - ca-certificates\u001b[00m  2022.9.24  ha878542_0           conda-forge                   \n",
            "\u001b[32m  + ca-certificates\u001b[00m  2022.12.7  ha878542_0           conda-forge/linux-64     146kB\n",
            "\u001b[31m  - certifi        \u001b[00m  2022.9.24  pyhd8ed1ab_0         conda-forge                   \n",
            "\u001b[32m  + certifi        \u001b[00m  2022.12.7  pyhd8ed1ab_0         conda-forge/noarch       151kB\n",
            "\n",
            "  Summary:\n",
            "\n",
            "  Install: 51 packages\n",
            "  Upgrade: 2 packages\n",
            "\n",
            "  Total download: 190MB\n",
            "\n",
            "─────────────────────────────────────────────────────────────────────────────────────\n",
            "\n",
            "Preparing transaction: ...working... done\n",
            "Verifying transaction: ...working... done\n",
            "Executing transaction: ...working... done\n",
            "Finished installing cctbx-base\n"
          ]
        }
      ]
    },
    {
      "cell_type": "code",
      "source": [
        "# Start running cctbx code\n",
        "# Thanks to Georg Mlynek for this example!\n",
        "from cctbx import crystal, miller\n",
        "\n",
        "crystal_symmetry = crystal.symmetry((10, 20, 30, 90, 90, 90), 'P212121')\n",
        "ms = miller.build_set(\n",
        "    crystal_symmetry=crystal_symmetry,\n",
        "    anomalous_flag=True,\n",
        "    d_min=2,\n",
        "    d_max=10\n",
        ")\n",
        "crystal_symmetry.show_summary()\n",
        "print('Resolution range', ms.d_max_min())\n",
        "print('Number of reflections', ms.indices().size())"
      ],
      "metadata": {
        "id": "jug2vYAgLpQF",
        "outputId": "0eac95b4-b402-4a6e-a14e-ad865754f0bf",
        "colab": {
          "base_uri": "https://localhost:8080/"
        }
      },
      "execution_count": 2,
      "outputs": [
        {
          "output_type": "stream",
          "name": "stdout",
          "text": [
            "Unit cell: (10, 20, 30, 90, 90, 90)\n",
            "Space group: P 21 21 21 (No. 19)\n",
            "Resolution range (10.0, 2.0)\n",
            "Number of reflections 762\n"
          ]
        }
      ]
    },
    {
      "cell_type": "code",
      "source": [],
      "metadata": {
        "id": "W21Cne7BNNv9"
      },
      "execution_count": null,
      "outputs": []
    }
  ]
}