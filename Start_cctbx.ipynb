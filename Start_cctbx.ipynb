{
  "nbformat": 4,
  "nbformat_minor": 0,
  "metadata": {
    "colab": {
      "name": "Start_cctbx.ipynb",
      "provenance": [],
      "authorship_tag": "ABX9TyN5J5jFfeMUKQ+hoE3a9P6n",
      "include_colab_link": true
    },
    "kernelspec": {
      "name": "python3",
      "display_name": "Python 3"
    },
    "language_info": {
      "name": "python"
    },
    "accelerator": "GPU",
    "gpuClass": "standard"
  },
  "cells": [
    {
      "cell_type": "markdown",
      "metadata": {
        "id": "view-in-github",
        "colab_type": "text"
      },
      "source": [
        "<a href=\"https://colab.research.google.com/github/phenix-project/Colabs/blob/main/Start_cctbx.ipynb\" target=\"_parent\"><img src=\"https://colab.research.google.com/assets/colab-badge.svg\" alt=\"Open In Colab\"/></a>"
      ]
    },
    {
      "cell_type": "code",
      "execution_count": null,
      "metadata": {
        "id": "ft3z-TiIKKmM"
      },
      "outputs": [],
      "source": [
        "# Install condacolab so that conda packages can be used\n",
        "# https://github.com/conda-incubator/condacolab\n",
        "#\n",
        "# Important notes\n",
        "# https://github.com/conda-incubator/condacolab#shortcomings\n",
        "# 1) The kernel will automatically be restarted and show an error message about\n",
        "#    a crash (\"Your session crashed for an unknown reason\").\n",
        "#    The error can be ignored.\n",
        "# 2) Only the \"base\" environment is available, so do not create a separate \n",
        "#    environment for packages.\n",
        "!pip install -q condacolab\n",
        "import condacolab\n",
        "condacolab.install()"
      ]
    },
    {
      "cell_type": "code",
      "source": [
        "# Install cctbx-base\n",
        "# Wait until the error message appears near the bottom of the notebook before\n",
        "# proceeding.\n",
        "\n",
        "# By default, condacolab installs both conda and mamba. Generally, mamba will\n",
        "# be faster when resolving dependencies.\n",
        "!mamba install -q cctbx-base\n",
        "\n",
        "# or install the nightly build of cctbx.xfel (GPU)\n",
        "# a GPU runtime must be selected at the beginning under\n",
        "# \"Runtime\" -> \"Change runtime type\"\n",
        "# !mamba install -q -c xfel cctbx.xfel=*=cuda*\n",
        "\n",
        "# or install the nightly build of cctbx.xfel (CPU)\n",
        "# !mamba install -q -c xfel cctbx.xfel=*=cpu*\n",
        "\n",
        "# conda installs ${CONDA_PREFIX}/share/cctbx into /usr/local instead of /usr\n",
        "# Make a copy to avoid errors\n",
        "!cp -af /usr/local/share/cctbx /usr/share/\n",
        "\n",
        "# sys.path does not have some directories with libraries, so add them here\n",
        "import sys\n",
        "py_ver = f'{sys.version_info.major}.{sys.version_info.minor}'\n",
        "for d in [f'/usr/local/lib/python{py_ver}/lib-dynload', '/usr/local/lib']:\n",
        "  if d not in sys.path:\n",
        "    sys.path.insert(0, d)\n",
        "\n",
        "# final check\n",
        "import os\n",
        "if os.path.isdir('/usr/local/share/cctbx') \\\n",
        "  and f'/usr/local/lib/python{py_ver}/lib-dynload' in sys.path \\\n",
        "  and '/usr/local/lib' in sys.path:\n",
        "  print('Finished installing cctbx-base')\n",
        "else:\n",
        "  raise RuntimeError('There was an error fixing up the installation of cctbx-base')\n"
      ],
      "metadata": {
        "id": "TFtfP--2Kdnn"
      },
      "execution_count": null,
      "outputs": []
    },
    {
      "cell_type": "code",
      "source": [
        "# Start running cctbx code\n",
        "# Thanks to Georg Mlynek for this example!\n",
        "from cctbx import crystal, miller\n",
        "\n",
        "crystal_symmetry = crystal.symmetry((10, 20, 30, 90, 90, 90), 'P212121')\n",
        "ms = miller.build_set(\n",
        "    crystal_symmetry=crystal_symmetry,\n",
        "    anomalous_flag=True,\n",
        "    d_min=2,\n",
        "    d_max=10\n",
        ")\n",
        "crystal_symmetry.show_summary()\n",
        "print('Resolution range', ms.d_max_min())\n",
        "print('Number of reflections', ms.indices().size())"
      ],
      "metadata": {
        "id": "jug2vYAgLpQF"
      },
      "execution_count": null,
      "outputs": []
    },
    {
      "cell_type": "code",
      "source": [],
      "metadata": {
        "id": "grsKrY_6hvFC"
      },
      "execution_count": null,
      "outputs": []
    }
  ]
}